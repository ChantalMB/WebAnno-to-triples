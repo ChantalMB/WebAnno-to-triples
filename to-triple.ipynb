{
 "cells": [
  {
   "cell_type": "code",
   "execution_count": null,
   "id": "9e5b3c78",
   "metadata": {},
   "outputs": [],
   "source": [
    "import pandas as pd\n",
    "import io\n",
    "import re\n",
    "\n",
    "pd.options.display.max_columns = None\n",
    "pd.options.display.max_rows = None"
   ]
  },
  {
   "cell_type": "code",
   "execution_count": null,
   "id": "ef8b51d9",
   "metadata": {},
   "outputs": [],
   "source": [
    "# grab only the lines that include data\n",
    "def convert(path):\n",
    "    all_lns = ''\n",
    "    nl = ''\n",
    "    with open(path, 'r') as f:\n",
    "        for line in f:\n",
    "            if '\\t' in line:\n",
    "                nl = line.rstrip()\n",
    "                all_lns += nl + '\\n'\n",
    "                \n",
    "    return(io.StringIO(all_lns))\n",
    "            \n",
    "data = pd.read_csv(convert('text1-anno.tsv'), sep='\\t', names=['token_id', 'offset_pos', 'text', 'entity_tag', 'relation_tag', 'related_token'])\n",
    "data\n"
   ]
  },
  {
   "cell_type": "code",
   "execution_count": null,
   "id": "8e543ec5",
   "metadata": {},
   "outputs": [],
   "source": [
    "only_entities = data[data.entity_tag != '_']\n",
    "triples = pd.DataFrame(columns=['e1', 'rel', 'e2'])\n",
    "\n",
    "def full_entity(ent):\n",
    "    ent_tag = only_entities.loc[only_entities.token_id == ent,'entity_tag']    \n",
    "    et = ent_tag.to_string(index=False)\n",
    "    \n",
    "    full_ent = ''\n",
    "    \n",
    "    if '[' in et:\n",
    "        for tag in only_entities.index:\n",
    "            if only_entities['entity_tag'][tag] == et:\n",
    "                full_ent += only_entities['text'][tag] + ' '\n",
    "        return(full_ent)\n",
    "    else:\n",
    "        ent_txt = only_entities.loc[only_entities.token_id == ent,'text']\n",
    "        ent_txt = ent_txt.to_string(index=False)\n",
    "        return(ent_txt)     \n",
    "\n",
    "for i in only_entities.index:\n",
    "    if only_entities['relation_tag'][i] != '_':\n",
    "        e1 = only_entities['token_id'][i]\n",
    "        e1t = full_entity(e1)\n",
    "        relation = only_entities['relation_tag'][i]\n",
    "        e2 = only_entities['related_token'][i]\n",
    "                \n",
    "        if '|' in relation:\n",
    "            ls_rel = relation.split('|')\n",
    "            ls_e2 = e2.split('|')\n",
    "            for j in range(len(ls_rel)):\n",
    "                tid = ls_e2[j].split('[')[0]\n",
    "                e2t = full_entity(tid)\n",
    "                \n",
    "                ls_rel[j] = ls_rel[j].replace('\\\\', '')\n",
    "                                          \n",
    "                triple = e2t + ', ' + ls_rel[j] + ', ' + e1t\n",
    "\n",
    "                mk_ls = triple.split(',')\n",
    "                triples.loc[len(triples)] = mk_ls    \n",
    "        else:       \n",
    "            tid = e2.split('[')[0]\n",
    "            e2t = full_entity(tid)\n",
    "            e2t = re.sub(r'[^\\w\\s]', '', e2t).strip()\n",
    "    \n",
    "            relation = relation.replace('\\\\', '')\n",
    "            \n",
    "            triple = e2t + ', ' + relation + ', ' + e1t\n",
    "\n",
    "            mk_ls = triple.split(',')\n",
    "            triples.loc[len(triples)] = mk_ls\n",
    "\n",
    "triples.to_csv('amp-format-triples.csv', index=False, header=False)\n",
    "triples"
   ]
  },
  {
   "cell_type": "code",
   "execution_count": null,
   "id": "aea18596",
   "metadata": {},
   "outputs": [],
   "source": []
  }
 ],
 "metadata": {
  "kernelspec": {
   "display_name": "Python 3",
   "language": "python",
   "name": "python3"
  },
  "language_info": {
   "codemirror_mode": {
    "name": "ipython",
    "version": 3
   },
   "file_extension": ".py",
   "mimetype": "text/x-python",
   "name": "python",
   "nbconvert_exporter": "python",
   "pygments_lexer": "ipython3",
   "version": "3.8.2"
  }
 },
 "nbformat": 4,
 "nbformat_minor": 5
}
